{
 "cells": [
  {
   "cell_type": "code",
   "execution_count": 1,
   "metadata": {},
   "outputs": [],
   "source": [
    "import pandas as pd\n",
    "import numpy as np\n",
    "import h5py\n",
    "import os\n",
    "import glob\n",
    "\n",
    "def extract_NHP_DEgap_behavior(data_dir, save_dir):\n",
    "    # get names+paths of .h5 files\n",
    "    fnames = glob.glob(os.path.join(data_dir, '*.h5'))\n",
    "\n",
    "    for i in range(len(fnames)):\n",
    "        \n",
    "        # load the file and get its name       \n",
    "        f = h5py.File(fnames[i],'r')\n",
    "        fname = os.path.basename(fnames[i])[0:-3]\n",
    "        \n",
    "        ftrials  = list(f['ML'].keys())[1:-1]        \n",
    "        sessiondf = pd.DataFrame()\n",
    "\n",
    "        t_ctr = 0\n",
    "        block_t_ctr = 0\n",
    "        last_block = f['ML'][ftrials[0]]['Block'][0]\n",
    "\n",
    "        for t in range(len(ftrials)):\n",
    "                    \n",
    "            # check if we should use this trial\n",
    "            if int(f['ML'][ftrials[t]]['UserVars']['UseTrial'][0]) == 1:   \n",
    "\n",
    "                t_ctr = t_ctr+1\n",
    "\n",
    "                if last_block != f['ML'][ftrials[t]]['Block'][0]:\n",
    "                    block_t_ctr = 1\n",
    "                else:\n",
    "                    block_t_ctr = block_t_ctr + 1\n",
    "\n",
    "                sessiondf.at[t_ctr,'fname'] = fname\n",
    "                sessiondf.at[t_ctr,'tnum'] = t_ctr\n",
    "                sessiondf.at[t_ctr,'block'] = f['ML'][ftrials[t]]['Block'][0]\n",
    "                sessiondf.at[t_ctr,'block_tnum'] = block_t_ctr\n",
    "                sessiondf.at[t_ctr,'block_type'] = f['ML'][ftrials[t]]['Block'][0]\n",
    "                sessiondf.at[t_ctr,'forced'] = f['ML'][ftrials[t]]['UserVars']['forced'][0]\n",
    "                sessiondf.at[t_ctr,'picked_best'] = f['ML'][ftrials[t]]['UserVars']['picked_best'][0]\n",
    "                sessiondf.at[t_ctr,'rt'] = f['ML'][ftrials[t]]['UserVars']['rt'][0]\n",
    "                sessiondf.at[t_ctr,'ch_side'] = f['ML'][ftrials[t]]['UserVars']['ch_side'][0]\n",
    "                sessiondf.at[t_ctr,'left_type'] = f['ML'][ftrials[t]]['UserVars']['left_type'][0]\n",
    "                sessiondf.at[t_ctr,'left_prob'] = f['ML'][ftrials[t]]['UserVars']['left_prob'][0]\n",
    "                sessiondf.at[t_ctr,'right_type'] = f['ML'][ftrials[t]]['UserVars']['right_type'][0]\n",
    "                sessiondf.at[t_ctr,'right_prob'] = f['ML'][ftrials[t]]['UserVars']['right_prob'][0]\n",
    "                sessiondf.at[t_ctr,'chosen_prob'] = f['ML'][ftrials[t]]['UserVars']['chosen_prob'][0]\n",
    "                sessiondf.at[t_ctr,'chosen_type'] = f['ML'][ftrials[t]]['UserVars']['chosen_type'][0]\n",
    "                sessiondf.at[t_ctr,'best_type'] = f['ML'][ftrials[t]]['UserVars']['best_type'][0]\n",
    "\n",
    "                if sessiondf.at[t_ctr,'left_prob'] > sessiondf.at[t_ctr,'right_prob']:\n",
    "                    sessiondf.at[t_ctr, 'best_prob'] = sessiondf.at[t_ctr,'left_prob']\n",
    "                    sessiondf.at[t_ctr, 'best_side'] = -1\n",
    "                else:\n",
    "                    sessiondf.at[t_ctr, 'best_prob'] = sessiondf.at[t_ctr,'right_prob']\n",
    "                    sessiondf.at[t_ctr, 'best_side'] = 1\n",
    "\n",
    "        # save the data as a .csv in save_dir\n",
    "        save_name = save_dir + '/' + fname + '_bhv.csv'\n",
    "        sessiondf.to_csv(save_name)"
   ]
  },
  {
   "cell_type": "code",
   "execution_count": null,
   "metadata": {},
   "outputs": [],
   "source": [
    "# data_dir is where the raw .h5 files are\n",
    "data_dir = ''\n",
    "\n",
    "# save_dir is where you want the extracted trial-by-trial .csv files to go\n",
    "save_dir = ''"
   ]
  },
  {
   "cell_type": "code",
   "execution_count": null,
   "metadata": {},
   "outputs": [],
   "source": [
    "# extract data\n",
    "extract_NHP_DEgap_behavior(data_dir, save_dir)"
   ]
  }
 ],
 "metadata": {
  "kernelspec": {
   "display_name": "base",
   "language": "python",
   "name": "python3"
  },
  "language_info": {
   "codemirror_mode": {
    "name": "ipython",
    "version": 3
   },
   "file_extension": ".py",
   "mimetype": "text/x-python",
   "name": "python",
   "nbconvert_exporter": "python",
   "pygments_lexer": "ipython3",
   "version": "3.11.5"
  }
 },
 "nbformat": 4,
 "nbformat_minor": 2
}
